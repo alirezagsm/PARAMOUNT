{
 "cells": [
  {
   "cell_type": "code",
   "execution_count": null,
   "id": "dd654a2e",
   "metadata": {
    "scrolled": false
   },
   "outputs": [],
   "source": [
    "from src.PARAMOUNT import POD\n",
    "\n",
    "\n",
    "def main():\n",
    "    \"\"\"\n",
    "\n",
    "    Inspect SVD results and visualize 3D modes.\n",
    "\n",
    "    Parameters Used\n",
    "    ----------\n",
    "    path_results_pod: path of folder containing SVD results\n",
    "    path_viz: path to save visualization results\n",
    "    modelist: list of mode numbers to process\n",
    "    variables: list of variables to consider\n",
    "    dt: time step of data acquisition in seconds\n",
    "    bounds: domain bounds for visualization [xmin, xmax, ymin, ymax, zmin, zmax, resolution] or \"auto\"\n",
    "    freq_max: maximum frequency of interest in PSD plots\n",
    "    POD(): initialize a dask cluster on local system\n",
    "\n",
    "    \"\"\"\n",
    "    path_results_pod = \".usv3d\"\n",
    "    path_viz = \".viz3d\"\n",
    "    modelist = range(5)\n",
    "    dt = 4e-5\n",
    "    coordinates = \"3D\"\n",
    "    bounds = \"auto\"\n",
    "    freq_max = 3000\n",
    "    variables =     POD.get_folderlist(path_results_pod, boolPrint=True)\n",
    "    pod = POD(show_dashboard=False)\n",
    "    pod.set_time(dt)\n",
    "    pod.set_viz_params(\n",
    "        dpi=600, linewidth=0.85, color=\"k\", cmap=\"seismic\", contour_levels=100\n",
    "    )\n",
    "\n",
    "    pod.svd_viz(\n",
    "        variables,\n",
    "        modelist,\n",
    "        bounds=bounds,\n",
    "        coordinates=coordinates,\n",
    "        path_results_pod=path_results_pod,\n",
    "        path_viz=path_viz,\n",
    "        freq_max=freq_max,\n",
    "        dist=2.5e-3,\n",
    "    )\n",
    "\n",
    "if __name__ == \"__main__\":\n",
    "    main()\n"
   ]
  },
  {
   "cell_type": "code",
   "execution_count": null,
   "id": "60c425d7",
   "metadata": {
    "scrolled": true
   },
   "outputs": [],
   "source": []
  },
  {
   "cell_type": "code",
   "execution_count": null,
   "id": "7f1c0521",
   "metadata": {},
   "outputs": [],
   "source": []
  },
  {
   "cell_type": "code",
   "execution_count": null,
   "id": "9b6047ca",
   "metadata": {},
   "outputs": [],
   "source": []
  }
 ],
 "metadata": {
  "kernelspec": {
   "display_name": "Python 3.10.6 64-bit",
   "language": "python",
   "name": "python3"
  },
  "language_info": {
   "codemirror_mode": {
    "name": "ipython",
    "version": 3
   },
   "file_extension": ".py",
   "mimetype": "text/x-python",
   "name": "python",
   "nbconvert_exporter": "python",
   "pygments_lexer": "ipython3",
   "version": "3.10.6"
  },
  "vscode": {
   "interpreter": {
    "hash": "301a17a29b57d3836b7901af1621afd6d2b1f2298b9c7949191147cf2fea93e3"
   }
  }
 },
 "nbformat": 4,
 "nbformat_minor": 5
}
